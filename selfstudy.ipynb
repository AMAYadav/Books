{
  "nbformat": 4,
  "nbformat_minor": 0,
  "metadata": {
    "colab": {
      "name": "selfstudy.ipynb",
      "provenance": [],
      "collapsed_sections": [],
      "authorship_tag": "ABX9TyMBRbL9uliq1djbWbMwO6l6",
      "include_colab_link": true
    },
    "kernelspec": {
      "name": "python3",
      "display_name": "Python 3"
    },
    "language_info": {
      "name": "python"
    }
  },
  "cells": [
    {
      "cell_type": "markdown",
      "metadata": {
        "id": "view-in-github",
        "colab_type": "text"
      },
      "source": [
        "<a href=\"https://colab.research.google.com/github/AMAYadav/Books/blob/main/selfstudy.ipynb\" target=\"_parent\"><img src=\"https://colab.research.google.com/assets/colab-badge.svg\" alt=\"Open In Colab\"/></a>"
      ]
    },
    {
      "cell_type": "code",
      "metadata": {
        "colab": {
          "base_uri": "https://localhost:8080/"
        },
        "id": "MtAaDg51fdGg",
        "outputId": "2d24b406-837c-4090-f2cd-3f293b08005a"
      },
      "source": [
        "Email=input('Your Id = ')\n",
        "Password=input('Your key= ')\n",
        "\n",
        "if Email=='anam@gmail.com' and Password=='ramraj':\n",
        "  print('Welcome Back')\n",
        "else :\n",
        "  print('Try again')"
      ],
      "execution_count": null,
      "outputs": [
        {
          "output_type": "stream",
          "name": "stdout",
          "text": [
            "Your Id = anam@gmail.com\n",
            "Your key= ramraj\n",
            "Welcome Back\n"
          ]
        }
      ]
    },
    {
      "cell_type": "code",
      "metadata": {
        "id": "S7Vjqew1lszm",
        "colab": {
          "base_uri": "https://localhost:8080/"
        },
        "outputId": "1c83a4e2-1383-4ffd-ab83-72ea7ff33376"
      },
      "source": [
        "email=input('naam baata ');password=input('daal naa ')\n",
        "\n",
        "\n",
        "if email=='ram#gmail.com' and password=='raviraj':\n",
        "  print('aa naa')\n",
        "else:\n",
        "  print('tujhpe naa hopayaga') \n"
      ],
      "execution_count": 6,
      "outputs": [
        {
          "output_type": "stream",
          "name": "stdout",
          "text": [
            "naam baata fvnewh\n",
            "daal naa ehnrv\n",
            "tujhpe naa hopayaga\n"
          ]
        }
      ]
    },
    {
      "cell_type": "code",
      "metadata": {
        "id": "xuY5Hd5sEDKF"
      },
      "source": [
        "email=input('naam baata ');password=input('daal naa ')\n",
        "\n",
        "\n",
        "if email!='ram@gmail.com' and password=='raviraj':\n",
        "  print('aa naa')\n",
        "elif email=='ram@gmail.com' and password!='raviraj':\n",
        "  print('dhakan dubara daal')#\n",
        "  password=input('ab sahi dalio ')#\n",
        "  if password=='raviraj':#\n",
        "    print('finally papu pass ho gaya')#\n",
        "  else :\n",
        "    print('ab jaa naa kyu diamg chat raha hai')#\n",
        "else:\n",
        "  print('tujhpe naa hopayaga ') \n"
      ],
      "execution_count": null,
      "outputs": []
    },
    {
      "cell_type": "code",
      "metadata": {
        "colab": {
          "base_uri": "https://localhost:8080/"
        },
        "id": "ZIE04VeGHpnZ",
        "outputId": "3ba48fca-259c-4ae9-e677-8a75c48359ee"
      },
      "source": [
        "email=input('naam baata ');#password=input('daal naa ')\n",
        "\n",
        "if email=='rajuchacha@gmail.com':\n",
        "  print('Welcome ')\n",
        "else:\n",
        "  print('wrong id')\n",
        "  email=input('daal naa ')\n",
        "  if email=='rajuchacha@gmail.com':\n",
        "    print('enter password')\n",
        "    password==input('password dalio ')\n",
        "    if passoword=='12345':\n",
        "      print('AAPKA INTZAR THA ')\n",
        "  else:\n",
        "    print('chutia')"
      ],
      "execution_count": 27,
      "outputs": [
        {
          "output_type": "stream",
          "name": "stdout",
          "text": [
            "naam baata 121\n",
            "wrong id\n",
            "daal naa22\n",
            "chutia\n"
          ]
        }
      ]
    },
    {
      "cell_type": "code",
      "metadata": {
        "colab": {
          "base_uri": "https://localhost:8080/"
        },
        "id": "qDKQzvLmKC8N",
        "outputId": "81122bda-a97d-43cb-f94c-bf17c6324ca1"
      },
      "source": [
        "emailid= input('apni email id daal ')\n",
        "\n",
        "if emailid!='arjunsinghpandit@gmail.com':  \n",
        "  emailid = input('Apni email id dubara daila ')\n",
        "  if emailid =='arjunsinghpandit@gmail.com':\n",
        "    print('finally password dalio')\n",
        "    password= input('Enter password')\n",
        "    if password=='012345':\n",
        "      print('Aa iyea')\n",
        "    else:\n",
        "      print('Kitni baar galti karaga') \n",
        "      password=input('password last time daal')\n",
        "  print('Wrong id ')\n"
      ],
      "execution_count": 35,
      "outputs": [
        {
          "output_type": "stream",
          "name": "stdout",
          "text": [
            "apni email id daal rgyrg\n",
            "Apni email id dubara daila arjunsinghpandit@gmail.com\n",
            "finally password dalio\n",
            "Enter password222\n",
            "Kitni baar galti karaga\n",
            "password last time daal222\n",
            "Wrong id \n"
          ]
        }
      ]
    },
    {
      "cell_type": "code",
      "metadata": {
        "colab": {
          "base_uri": "https://localhost:8080/"
        },
        "id": "gOGzDAaTMf4C",
        "outputId": "4791bc75-81ba-4d27-a38c-60a6e9bc31bb"
      },
      "source": [
        "emails=input('EMAIL BATA ')\n",
        "\n",
        "if emails=='ramsham@gmail.com':\n",
        "  print('correct Id \\n  Now enter password ')\n",
        "  password=input('     12password baata')\n",
        "  if password=='12345':\n",
        "    print('enter ')\n",
        "  else :\n",
        "    print('     wrong password ')\n",
        "# print('correct Id')\n",
        "# password= input('input password')\n",
        "# if    \n",
        "      "
      ],
      "execution_count": 52,
      "outputs": [
        {
          "output_type": "stream",
          "name": "stdout",
          "text": [
            "EMAIL BATA ramsham@gmail.com\n",
            "correct Id \n",
            "  Now enter password \n",
            "     password baata121\n",
            "     wrong password \n"
          ]
        }
      ]
    },
    {
      "cell_type": "code",
      "metadata": {
        "colab": {
          "base_uri": "https://localhost:8080/"
        },
        "id": "L72UjnbjPD__",
        "outputId": "e1742d5a-9cf7-4081-d0c8-12cccd991a01"
      },
      "source": [
        "emails=input('EMAIL BATA ')\n",
        "\n",
        "if emails=='ramsham@gmail.com':\n",
        "  print('ab password ki baari ')\n",
        "  password=input('write password ')\n",
        "  if password=='12345':\n",
        "    print('badiya')\n",
        "  else:\n",
        "    print('Last chance ')\n",
        "    password=input('write password ')\n",
        "    if password=='12345':\n",
        "      print('finally you came throught')\n",
        "    else:\n",
        "      print('Account Locked try tomorrow')\n",
        "else:\n",
        "  print('wrong Id try again ')\n",
        "  emails=input('enter your Id again ')\n",
        "  if emails=='ramsham@gmail.com':\n",
        "    print('AA JIYA')\n",
        "  else:\n",
        "    print('Account locked for the day try tomorrow') \n",
        "  \n",
        "  \n",
        "\n"
      ],
      "execution_count": 60,
      "outputs": [
        {
          "output_type": "stream",
          "name": "stdout",
          "text": [
            "EMAIL BATA ramsham@gmail.com\n",
            "ab password ki baari \n",
            "write password 1\n",
            "Last chance \n",
            "write password 12\n",
            "Account Locked try tomorrow\n"
          ]
        }
      ]
    },
    {
      "cell_type": "code",
      "metadata": {
        "id": "-RFAr9xGR0LF"
      },
      "source": [
        ""
      ],
      "execution_count": null,
      "outputs": []
    }
  ]
}